{
 "cells": [
  {
   "cell_type": "code",
   "execution_count": 1,
   "id": "62c329ba",
   "metadata": {},
   "outputs": [],
   "source": [
    "# !pip install tensorflow_hub"
   ]
  },
  {
   "cell_type": "code",
   "execution_count": 2,
   "id": "86629630",
   "metadata": {},
   "outputs": [],
   "source": [
    "import os\n",
    "import pandas as pd\n",
    "import tensorflow_hub as hub\n",
    "import tensorflow as tf\n",
    "import numpy as np\n",
    "from PIL import Image\n",
    "import matplotlib.pyplot as plt\n",
    "import numpy as np"
   ]
  },
  {
   "cell_type": "code",
   "execution_count": null,
   "id": "ae6f6201",
   "metadata": {},
   "outputs": [
    {
     "name": "stdout",
     "output_type": "stream",
     "text": [
      "Metal device set to: Apple M1 Pro\n"
     ]
    },
    {
     "name": "stderr",
     "output_type": "stream",
     "text": [
      "2022-09-03 17:48:22.629277: I tensorflow/core/common_runtime/pluggable_device/pluggable_device_factory.cc:305] Could not identify NUMA node of platform GPU ID 0, defaulting to 0. Your kernel may not have been built with NUMA support.\n",
      "2022-09-03 17:48:22.629627: I tensorflow/core/common_runtime/pluggable_device/pluggable_device_factory.cc:271] Created TensorFlow device (/job:localhost/replica:0/task:0/device:GPU:0 with 0 MB memory) -> physical PluggableDevice (device: 0, name: METAL, pci bus id: <undefined>)\n"
     ]
    }
   ],
   "source": [
    "module = hub.load(\"https://tfhub.dev/google/imagenet/efficientnet_v2_imagenet1k_b0/feature_vector/2\")\n",
    "path = \"../crops/book/crops/book\"\n",
    "file_list = os.listdir(path)\n",
    "file_list_img = [file for file in file_list if file.endswith(\".png\") or file.endswith(\".jpeg\") or file.endswith(\".jpg\")]"
   ]
  },
  {
   "cell_type": "code",
   "execution_count": null,
   "id": "21166cb5-b50f-492e-af59-f21a1daeacc4",
   "metadata": {},
   "outputs": [],
   "source": [
    "tmp_df = pd.DataFrame()\n",
    "for i, img in enumerate(file_list_img):\n",
    "    image = Image.open(path+'/'+img).convert('RGB')\n",
    "\n",
    "    img_input = tf.keras.preprocessing.image.img_to_array(image, data_format='channels_last')\n",
    "    img_input = np.array([img_input])\n",
    "    output = np.array(module(img_input))\n",
    "    tmp_df = tmp_df.append({'filename':img, 'output':output}, ignore_index=True)"
   ]
  },
  {
   "cell_type": "code",
   "execution_count": null,
   "id": "1dcf9094-bf8d-483a-b992-2e8166471df6",
   "metadata": {},
   "outputs": [],
   "source": [
    "tmp_df"
   ]
  },
  {
   "cell_type": "code",
   "execution_count": null,
   "id": "91787b54-3275-4b27-af7e-0eccb75842f9",
   "metadata": {},
   "outputs": [],
   "source": [
    "from sklearn.metrics.pairwise import cosine_similarity\n",
    "cos_sim_array = np.zeros((len(tmp_df),len(tmp_df)))\n",
    "for i in range(0, len(tmp_df)):\n",
    "    for j in range(0, len(tmp_df)):\n",
    "        cos_sim_array[i][j] = cosine_similarity(tmp_df['output'][i] , tmp_df['output'][j])"
   ]
  },
  {
   "cell_type": "code",
   "execution_count": null,
   "id": "e5de5377-e48f-4360-a107-d6ae7d1ceffe",
   "metadata": {},
   "outputs": [],
   "source": [
    "file_list = tmp_df['filename'].tolist()\n",
    "cos_sim_df = pd.DataFrame(cos_sim_array, index=file_list, columns=file_list)"
   ]
  },
  {
   "cell_type": "code",
   "execution_count": null,
   "id": "7e66a3ef-0ce6-447a-b656-37d5aca939f9",
   "metadata": {},
   "outputs": [],
   "source": [
    "jpg_test = cos_sim_df['V0004168H08050006-1.jpg'].sort_values(ascending=False)[:10]"
   ]
  },
  {
   "cell_type": "code",
   "execution_count": null,
   "id": "62c5c74e-5cd3-4c55-8a3f-a3c08dc80e8c",
   "metadata": {},
   "outputs": [],
   "source": [
    "def show_sim(filename):\n",
    "    jpg_test = cos_sim_df[filename].sort_values(ascending=False)[:10]\n",
    "    f, ax = plt.subplots(2, 5, figsize=(40,20))\n",
    "    for i in range(len(jpg_test)): \n",
    "        tmp_img = Image.open(path+'/'+jpg_test.index[i]).convert('RGB')\n",
    "        sim = f'cos : {jpg_test[i]:.3f}'\n",
    "        ax[i//5][i%5].imshow(tmp_img, aspect='auto')\n",
    "        if i == 0: \n",
    "            title = f'original \\n{jpg_test.index[i]}' \n",
    "        else: title = f'similarity no.{i} \\n{jpg_test.index[i]}'\n",
    "        ax[i//5][i%5].set_title(title, pad=20, size=25)\n",
    "        ax[i//5][i%5].annotate(sim, (0,10), fontsize=18, color='red')\n",
    "        ax[i//5][i%5].set_xticks([]); ax[i//5][i%5].set_yticks([])\n",
    "        \n",
    "    fig1 = plt.gcf() # plt.show 이후에 save를 하면 안됨\n",
    "    plt.show()\n",
    "    fig1.savefig(f'test_{filename}', format='jpeg')\n",
    "\n",
    "show_sim('V0004168H08050006-1.jpg')"
   ]
  },
  {
   "cell_type": "code",
   "execution_count": null,
   "id": "6f90cfab-3bf2-4eed-a708-0607e9088a8c",
   "metadata": {},
   "outputs": [],
   "source": [
    "show_sim('F2022070400000372-1.jpg')"
   ]
  },
  {
   "cell_type": "code",
   "execution_count": null,
   "id": "f99458ef-0530-42cc-ad47-c3f1f80b74ef",
   "metadata": {},
   "outputs": [],
   "source": [
    "cos_sim_df.to_csv('cos_sim_eff_v2_b0.csv',index=False) # csv파일 출력"
   ]
  },
  {
   "cell_type": "code",
   "execution_count": null,
   "id": "78f54d94-a0aa-4d45-b726-fbd78397d096",
   "metadata": {},
   "outputs": [],
   "source": []
  }
 ],
 "metadata": {
  "kernelspec": {
   "display_name": "tensorflow2_p38",
   "language": "python",
   "name": "tensorflow2_p38"
  },
  "language_info": {
   "codemirror_mode": {
    "name": "ipython",
    "version": 3
   },
   "file_extension": ".py",
   "mimetype": "text/x-python",
   "name": "python",
   "nbconvert_exporter": "python",
   "pygments_lexer": "ipython3",
   "version": "3.8.13"
  }
 },
 "nbformat": 4,
 "nbformat_minor": 5
}
