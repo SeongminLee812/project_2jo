{
 "cells": [
  {
   "cell_type": "code",
   "execution_count": 1,
   "id": "497ab473-25a6-49a8-8a1f-de6a031f55d9",
   "metadata": {},
   "outputs": [],
   "source": [
    "# 모듈 import\n",
    "import os\n",
    "import pandas as pd\n",
    "import tensorflow_hub as hub\n",
    "import tensorflow as tf\n",
    "import numpy as np\n",
    "from PIL import Image\n",
    "import matplotlib.pyplot as plt\n",
    "import numpy as np\n",
    "from tqdm.notebook import tqdm # 반복문의 진행상황 확인하는 모듈\n",
    "import time\n",
    "from scipy.spatial import distance\n",
    "import warnings\n",
    "warnings.filterwarnings('ignore')"
   ]
  },
  {
   "cell_type": "markdown",
   "id": "3e902091-28bb-4ae0-b7e2-06cf3d66e00a",
   "metadata": {},
   "source": [
    "## 전역변수 설정부 \n",
    "- __상세히 확인하기__"
   ]
  },
  {
   "cell_type": "code",
   "execution_count": 2,
   "id": "3ec9a6be-7b06-420c-b3ba-3b660105a031",
   "metadata": {},
   "outputs": [
    {
     "name": "stdout",
     "output_type": "stream",
     "text": [
      "model_name :  efficientnet_lite0\n"
     ]
    }
   ],
   "source": [
    "# 전역변수 설정 부 !! 변수부는 항상 자세히 확인하기 !!\n",
    "url = \"https://tfhub.dev/tensorflow/efficientnet/lite0/feature-vector/2\"\n",
    "model_name = url.split('/')[4] + '_' + url.split('/')[5]\n",
    "print('model_name : ', model_name) # 모델이름이 제대로 안나오면 model_name = '모델명'으로 수정해주세요~\n",
    "\n",
    "category = 'cap' # 카테고리 꼭 수정\n",
    "image_path = f\"../crops/{category}/\" # 경로 설정 \n",
    "output_path = f\"../vector_frame/{category}/\" \n",
    "IMAGE_SHAPE = (224, 224)\n",
    "\n",
    "if not category in os.listdir(output_path[:-4]): # vector_frame에 카테고리 폴더 없으면 생성\n",
    "    os.mkdir(f\"../vector_frame/{category}\" )"
   ]
  },
  {
   "cell_type": "code",
   "execution_count": 3,
   "id": "88c6dc8c-3e97-4e52-baca-5f0a61db4e6e",
   "metadata": {},
   "outputs": [],
   "source": [
    "# 우리의 모듈 import\n",
    "from module import *"
   ]
  },
  {
   "cell_type": "markdown",
   "id": "8a23cc89-e431-484a-b62e-2afd4d036ba3",
   "metadata": {},
   "source": [
    "## 함수 실행부"
   ]
  },
  {
   "cell_type": "code",
   "execution_count": 4,
   "id": "69943efc-57e4-4d77-aa66-eef601641d2f",
   "metadata": {
    "scrolled": true,
    "tags": []
   },
   "outputs": [
    {
     "ename": "NameError",
     "evalue": "name 'hub' is not defined",
     "output_type": "error",
     "traceback": [
      "\u001b[0;31m---------------------------------------------------------------------------\u001b[0m",
      "\u001b[0;31mNameError\u001b[0m                                 Traceback (most recent call last)",
      "Input \u001b[0;32mIn [4]\u001b[0m, in \u001b[0;36m<cell line: 1>\u001b[0;34m()\u001b[0m\n\u001b[0;32m----> 1\u001b[0m model \u001b[38;5;241m=\u001b[39m \u001b[43mcreate_model\u001b[49m\u001b[43m(\u001b[49m\u001b[43murl\u001b[49m\u001b[43m,\u001b[49m\u001b[43m \u001b[49m\u001b[43mIMAGE_SHAPE\u001b[49m\u001b[43m)\u001b[49m\n\u001b[1;32m      2\u001b[0m make_dataframe(category, model_name, image_path, output_path, model)\n\u001b[1;32m      3\u001b[0m get_dataframe(category, model_name, image_path, output_path)\n",
      "File \u001b[0;32m~/workspaces/project2/similarity_test/module.py:3\u001b[0m, in \u001b[0;36mcreate_model\u001b[0;34m(url, IMAGE_SHAPE)\u001b[0m\n\u001b[1;32m      1\u001b[0m \u001b[38;5;28;01mdef\u001b[39;00m \u001b[38;5;21mcreate_model\u001b[39m(url, IMAGE_SHAPE):\n\u001b[1;32m      2\u001b[0m     model_url \u001b[38;5;241m=\u001b[39m url\n\u001b[0;32m----> 3\u001b[0m     layer \u001b[38;5;241m=\u001b[39m \u001b[43mhub\u001b[49m\u001b[38;5;241m.\u001b[39mKerasLayer(model_url, input_shape\u001b[38;5;241m=\u001b[39mIMAGE_SHAPE\u001b[38;5;241m+\u001b[39m(\u001b[38;5;241m3\u001b[39m,))\n\u001b[1;32m      4\u001b[0m     model \u001b[38;5;241m=\u001b[39m tf\u001b[38;5;241m.\u001b[39mkeras\u001b[38;5;241m.\u001b[39mSequential([layer])\n\u001b[1;32m      5\u001b[0m     model\u001b[38;5;241m.\u001b[39msummary()\n",
      "\u001b[0;31mNameError\u001b[0m: name 'hub' is not defined"
     ]
    }
   ],
   "source": [
    "model = create_model(url, IMAGE_SHAPE)\n",
    "make_dataframe(category, model_name, image_path, output_path, model)\n",
    "get_dataframe(category, model_name, image_path, output_path)"
   ]
  },
  {
   "cell_type": "code",
   "execution_count": null,
   "id": "2a3c5b35-5104-4639-a2e9-4b6181db0649",
   "metadata": {},
   "outputs": [],
   "source": [
    "threshold = 0.4 # 이 부분 수정해서 사용하거나 함수 호출 시 3번째 인자로 임계값 넣어주기\n",
    "input_file = 'cap_marant.jpg' # 테스트 파일 경로\n",
    "get_dataframe(category, model_name, image_path, output_path)\n",
    "show_sim_threshold(input_file, category, model_name, image_path, output_path, threshold)"
   ]
  },
  {
   "cell_type": "code",
   "execution_count": null,
   "id": "3ef42b55-bc39-41e0-b2c9-b2678eeb9769",
   "metadata": {},
   "outputs": [],
   "source": []
  }
 ],
 "metadata": {
  "kernelspec": {
   "display_name": "tensorflow2_p38",
   "language": "python",
   "name": "tensorflow2_p38"
  },
  "language_info": {
   "codemirror_mode": {
    "name": "ipython",
    "version": 3
   },
   "file_extension": ".py",
   "mimetype": "text/x-python",
   "name": "python",
   "nbconvert_exporter": "python",
   "pygments_lexer": "ipython3",
   "version": "3.8.13"
  }
 },
 "nbformat": 4,
 "nbformat_minor": 5
}
